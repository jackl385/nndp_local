{
 "cells": [
  {
   "cell_type": "markdown",
   "metadata": {},
   "source": [
    "Files ending with `_with_time` correspond to the model with three state variables. \n",
    "\n",
    "Since time is now a state variable, I've created a new `core_with_time.py` file that is a modified version of `core.py` so that it does not discount. Note that discounting already happens in the `model_with_time.py` u function. "
   ]
  },
  {
   "cell_type": "markdown",
   "metadata": {},
   "source": [
    "# Import Python Preliminaries"
   ]
  },
  {
   "cell_type": "code",
   "execution_count": 1,
   "metadata": {},
   "outputs": [],
   "source": [
    "import os\n",
    "import sys\n",
    "import pandas as pd\n",
    "from pathlib import Path\n",
    "import jax\n",
    "import jax.numpy as jnp\n",
    "import matplotlib.pyplot as plt\n",
    "import optax\n",
    "import cloudpickle\n",
    "from jax.tree_util import Partial\n",
    "\n",
    "sys.path.append('/Users/jackli/Documents/Research/nndp_local/source_finite')"
   ]
  },
  {
   "cell_type": "code",
   "execution_count": 2,
   "metadata": {},
   "outputs": [],
   "source": [
    "# Since time is now a state variable, change the evaluate_policy function within core.py so that it does not discount. \n",
    "# Discounting already happens in the model_with_time.py u function. \n",
    "from core_with_time import train, evaluate_policy"
   ]
  },
  {
   "cell_type": "code",
   "execution_count": 3,
   "metadata": {},
   "outputs": [],
   "source": [
    "from model_with_time import u, v_T, m, F, T, nn_to_action\n",
    "from model_with_time import alpha, delta, r, beta, rho_z, sigma_z\n",
    "from policy_function import make_policy_function"
   ]
  },
  {
   "cell_type": "markdown",
   "metadata": {},
   "source": [
    "# Define and Train Neural Network"
   ]
  },
  {
   "cell_type": "code",
   "execution_count": 4,
   "metadata": {},
   "outputs": [
    {
     "name": "stdout",
     "output_type": "stream",
     "text": [
      "[4146024105  967050713] [2718843009 1272950319]\n",
      "Objective value on training iteration 499 out of 500: 16.140388488769533\n",
      "CPU times: user 2min 7s, sys: 32.7 s, total: 2min 40s\n",
      "Wall time: 1min 9s\n"
     ]
    }
   ],
   "source": [
    "%%time\n",
    "key = jax.random.PRNGKey(0)\n",
    "params, policy = make_policy_function(nn_to_action = nn_to_action,\n",
    "                                      key = key,\n",
    "                                      K = 3,\n",
    "                                      P = 1,\n",
    "                                      N_nodes = 256,\n",
    "                                      N_hidden = 3,\n",
    "                                      f_activation = jax.nn.tanh,\n",
    "                                      f_outputs = [jax.nn.relu]\n",
    "                                      )\n",
    "\n",
    "params = train(key = key,\n",
    "               params = params,\n",
    "               policy = policy,\n",
    "               u = u,\n",
    "               v_T = v_T,\n",
    "               m = m,\n",
    "               F = F,\n",
    "               T = T,\n",
    "               N_simul = 1,\n",
    "               batch_size = 1024,\n",
    "               N_iter = 500,\n",
    "               optimizer = optax.adam(1e-3)\n",
    "               )\n",
    "\n",
    "print('')"
   ]
  },
  {
   "cell_type": "markdown",
   "metadata": {},
   "source": [
    "## Save Model"
   ]
  },
  {
   "cell_type": "code",
   "execution_count": 10,
   "metadata": {},
   "outputs": [],
   "source": [
    "# # Save the policy function\n",
    "# with open('models/' + str(tag) + '_policy.pkl', 'wb') as f:\n",
    "#     cloudpickle.dump(policy, f)\n",
    "\n",
    "# # Save the parameters\n",
    "# with open('models/' + str(tag) + '_params.pkl', 'wb') as f:\n",
    "#     cloudpickle.dump(params, f)"
   ]
  },
  {
   "cell_type": "markdown",
   "metadata": {},
   "source": [
    "## Load Model"
   ]
  },
  {
   "cell_type": "code",
   "execution_count": 11,
   "metadata": {},
   "outputs": [],
   "source": [
    "# # Load the saved policy function\n",
    "# with open('models/' + str(tag) + '_policy.pkl', 'rb') as f:\n",
    "#     policy = cloudpickle.load(f)\n",
    "\n",
    "# # Load the saved parameters\n",
    "# with open('models/' + str(tag) + '_params.pkl', 'rb') as f:\n",
    "#     params = cloudpickle.load(f)"
   ]
  },
  {
   "cell_type": "markdown",
   "metadata": {},
   "source": [
    "# Plot"
   ]
  },
  {
   "cell_type": "markdown",
   "metadata": {},
   "source": [
    "## Analytical Solution"
   ]
  },
  {
   "cell_type": "code",
   "execution_count": 12,
   "metadata": {
    "tags": []
   },
   "outputs": [],
   "source": [
    "def an_policy(s, policy_params=0): \n",
    "    k = s[:,0]\n",
    "    z = s[:,1]\n",
    "    return (((delta + r) / (alpha * jnp.exp(rho_z*z + 0.5*sigma_z**2))) ** (1 / (alpha - 1))).reshape(-1, 1)"
   ]
  },
  {
   "cell_type": "markdown",
   "metadata": {},
   "source": [
    "## Plot Policy Function"
   ]
  },
  {
   "cell_type": "code",
   "execution_count": 21,
   "metadata": {},
   "outputs": [],
   "source": [
    "z = jnp.linspace(-0.4, 0.4)\n",
    "k = jnp.linspace(0.01, 15)\n",
    "\n",
    "t_fixed = 10\n",
    "k_fixed = 10\n",
    "s_z = jnp.column_stack(([t_fixed]*len(k), z, [k_fixed]*len(k)))\n",
    "\n",
    "z_fixed = 0\n",
    "s_k = jnp.column_stack(([t_fixed]*len(k), [z_fixed]*len(z), k))\n",
    "\n",
    "policy_values_z = policy(s_z, params)\n",
    "an_policy_values_z = an_policy(s_z)\n",
    "policy_pct_error_z = [100 * (list(policy_values_z)[i] / list(an_policy_values_z)[i] - 1) for i in range(len(s_z))]\n",
    "\n",
    "policy_values_k = policy(s_k, params)\n",
    "an_policy_values_k = an_policy(s_k)\n",
    "policy_pct_error_k = [100 * (list(policy_values_k)[i] / list(an_policy_values_k)[i] - 1) for i in range(len(s_k))]"
   ]
  },
  {
   "cell_type": "code",
   "execution_count": 22,
   "metadata": {},
   "outputs": [
    {
     "data": {
      "image/png": "[encoded data removed]",
      "text/plain": [
       "<Figure size 576x576 with 4 Axes>"
      ]
     },
     "metadata": {
      "needs_background": "light"
     },
     "output_type": "display_data"
    }
   ],
   "source": [
    "fig, axs = plt.subplots(2, 2, figsize=(8, 8))\n",
    "\n",
    "#set 1\n",
    "axs[0][0].plot(z, policy_values_z, label='Policy')\n",
    "axs[0][0].plot(z, an_policy_values_z, label='Analytical Policy')\n",
    "axs[0][0].set_title('Policy: $t = 0, k = 10$, Vary $z$')\n",
    "axs[0][0].set_xlabel('TFP')\n",
    "axs[0][0].set_ylabel('Capital Next Period')\n",
    "axs[0][0].legend()\n",
    "\n",
    "axs[0][1].plot(z, policy_pct_error_z, label='Policy: Percentage Error')\n",
    "axs[0][1].set_title('% Error for Policy, $t = 0, k = 10$, Vary $z$')\n",
    "axs[0][1].set_xlabel('TFP')\n",
    "axs[0][1].set_ylabel('Capital Next Period')\n",
    "axs[0][1].axhline(y=0, color='gray', linestyle='--')\n",
    "axs[0][1].legend()\n",
    "\n",
    "#set 3\n",
    "axs[1][0].plot(k, policy_values_k, label='Policy')\n",
    "axs[1][0].plot(k, an_policy_values_k, label='Analytical Policy')\n",
    "axs[1][0].set_title('Policy: $t = 0, z = 0$, Vary $k$')\n",
    "axs[1][0].set_xlabel('Capital')\n",
    "axs[1][0].set_ylabel('Capital Next Period')\n",
    "axs[1][0].legend()\n",
    "\n",
    "axs[1][1].plot(k, policy_pct_error_k, label='Policy: Percentage Error')\n",
    "axs[1][1].set_title('% Error for Policy, $t = 0, z = 0$, Vary $k$')\n",
    "axs[1][1].set_xlabel('Capital')\n",
    "axs[1][1].set_ylabel('Capital Next Period')\n",
    "axs[1][1].axhline(y=0, color='gray', linestyle='--')\n",
    "axs[1][1].legend()\n",
    "\n",
    "plt.tight_layout()\n",
    "# plt.savefig(PATH+'/figures/'+tag)\n",
    "plt.show()"
   ]
  },
  {
   "cell_type": "markdown",
   "metadata": {},
   "source": [
    "# Debug"
   ]
  },
  {
   "cell_type": "code",
   "execution_count": 4,
   "metadata": {},
   "outputs": [
    {
     "name": "stdout",
     "output_type": "stream",
     "text": [
      "[4146024105  967050713] [2718843009 1272950319]\n"
     ]
    }
   ],
   "source": [
    "key = jax.random.PRNGKey(0)\n",
    "params, policy = make_policy_function(nn_to_action = nn_to_action,\n",
    "                                      key = key,\n",
    "                                      K = 3,\n",
    "                                      P = 1,\n",
    "                                      N_nodes = 256,\n",
    "                                      N_hidden = 3,\n",
    "                                      f_activation = jax.nn.tanh,\n",
    "                                      f_outputs = [jax.nn.relu]\n",
    "                                     )"
   ]
  },
  {
   "cell_type": "code",
   "execution_count": 7,
   "metadata": {},
   "outputs": [
    {
     "data": {
      "text/plain": [
       "Array([[0.07830688]], dtype=float32)"
      ]
     },
     "execution_count": 7,
     "metadata": {},
     "output_type": "execute_result"
    }
   ],
   "source": [
    "policy(jnp.array([[0, 1, 1]]), params)"
   ]
  },
  {
   "cell_type": "code",
   "execution_count": 12,
   "metadata": {},
   "outputs": [
    {
     "data": {
      "text/plain": [
       "Array([3.539975], dtype=float32)"
      ]
     },
     "execution_count": 12,
     "metadata": {},
     "output_type": "execute_result"
    }
   ],
   "source": [
    "u(jnp.array([[0, 1, 1]]), policy(jnp.array([[0, 1, 1]]), params))"
   ]
  },
  {
   "cell_type": "code",
   "execution_count": 13,
   "metadata": {},
   "outputs": [
    {
     "data": {
      "text/plain": [
       "Array([[3.6182818]], dtype=float32)"
      ]
     },
     "execution_count": 13,
     "metadata": {},
     "output_type": "execute_result"
    }
   ],
   "source": [
    "evaluate_policy(key = key, \n",
    "                policy = Partial(policy, params = params),\n",
    "                u = u,\n",
    "                v_T = v_T,\n",
    "                m = m,\n",
    "                s0 = jnp.array([[0, 1, 1]]),\n",
    "                T = T,\n",
    "                N_simul = 1)"
   ]
  },
  {
   "cell_type": "code",
   "execution_count": null,
   "metadata": {},
   "outputs": [],
   "source": []
  }
 ],
 "metadata": {
  "kernelspec": {
   "display_name": "Python 3 (ipykernel)",
   "language": "python",
   "name": "python3"
  },
  "language_info": {
   "codemirror_mode": {
    "name": "ipython",
    "version": 3
   },
   "file_extension": ".py",
   "mimetype": "text/x-python",
   "name": "python",
   "nbconvert_exporter": "python",
   "pygments_lexer": "ipython3",
   "version": "3.9.9"
  },
  "vscode": {
   "interpreter": {
    "hash": "84684bfe7597c1cb2277b05a32b23e8b2ec29bfc48848fa4328c6cefe12cefb0"
   }
  }
 },
 "nbformat": 4,
 "nbformat_minor": 4
}
